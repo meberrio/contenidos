{
 "cells": [
  {
   "cell_type": "markdown",
   "metadata": {},
   "source": [
    "<p>\n",
    "<font size='5' face='Georgia, Arial'>IIC-2233 Apunte Programación Avanzada</font><br>\n",
    "<font size='1'> Material creado en 2019-2 por Equipo Docente IIC2233. Modificado en 2020-1, 2020-2 y 2021-1 por Equipo Docente IIC2233</font>\n",
    "</p>"
   ]
  },
  {
   "cell_type": "markdown",
   "metadata": {},
   "source": [
    "## Guía de estilo en Python: PEP8\n",
    "\n",
    "Puedes encontrar la especificación completa [aquí](https://www.python.org/dev/peps/pep-0008/)."
   ]
  },
  {
   "cell_type": "markdown",
   "metadata": {},
   "source": [
    "### - Aplicar `snake_case` para nombres de variables, atributos, funciones y métodos.\n",
    "\n",
    "`snake_case` es la práctica de escribir palabras o frases compuestas usando `_` para separar los distintos elementos del nombre y sin espacios."
   ]
  },
  {
   "cell_type": "markdown",
   "metadata": {},
   "source": [
    "### - Aplicar `CamelCase` para nombres de clases\n",
    "\n",
    "`CamelCase` es la práctica de escribir palabras o frases compuestas sin espacios ni separador entre elementos, y por cada elemento se comienza con una mayúscula. Existen variantes donde la primera letra utilizan minúscula (*lower cammel case*), pero en IIC2233 utilizaremos la opuesta: *upper cammel case*.\n",
    "\n",
    "A continuación un ejemplo de escritura siguendo `snake_case` y `CamelCase`:"
   ]
  },
  {
   "cell_type": "code",
   "execution_count": 1,
   "metadata": {
    "ExecuteTime": {
     "end_time": "2020-03-09T14:34:16.092365Z",
     "start_time": "2020-03-09T14:34:16.074064Z"
    }
   },
   "outputs": [
    {
     "name": "stdout",
     "output_type": "stream",
     "text": [
      "¡Woof!\n",
      "¡Hola Pedro!\n",
      "¡Woof!\n",
      "¡Hola Juan!\n",
      "\n",
      "¡Woof!\n",
      "¡Hola Pedro!\n",
      "¡Woof!\n",
      "¡Hola Jose!\n",
      "\n",
      "¡Woof!\n",
      "¡Hola Jose!\n",
      "¡Woof!\n",
      "¡Hola Juan!\n",
      "\n"
     ]
    }
   ],
   "source": [
    "class PerroAmigable:                        # CamelCase para el nombre de la clase\n",
    "    \n",
    "    def __init__(self, nombre, edad):\n",
    "        self.nombre = nombre\n",
    "        self.edad = edad\n",
    "    \n",
    "    def saludar_amigo(self, amigo):         # snake_case para el método\n",
    "        print(\"¡Woof!\")\n",
    "        print(\"¡Hola \" + amigo.nombre + \"!\")\n",
    "\n",
    "\n",
    "def saludo_mutuo(perro_1, perro_2):         # snake_case para la funcion\n",
    "    perro_1.saludar_amigo(perro_2)\n",
    "    perro_2.saludar_amigo(perro_1)\n",
    "    print()\n",
    "\n",
    "\n",
    "perro_juan = PerroAmigable(\"Juan\", 21)      # snake_case para las instancias/variables\n",
    "perro_pedro = PerroAmigable(\"Pedro\", 20)\n",
    "perro_jose = PerroAmigable(\"Jose\", 22)\n",
    "\n",
    "saludo_mutuo(perro_juan, perro_pedro)\n",
    "saludo_mutuo(perro_jose, perro_pedro)\n",
    "saludo_mutuo(perro_juan, perro_jose)"
   ]
  },
  {
   "cell_type": "markdown",
   "metadata": {},
   "source": [
    "### - Nombres de variables descriptivos.\n",
    "\n",
    "Es usual que al programar se nos ocurra nombres de variables simples como `a` o `variable`. Si bien tal vez esto ahorra en tiempo de escritura, esto no genera código leible o fácil de entender. Al volver a leer código como el siguiente, nos produce dudas de que realmente hace lo que estamos leyendo:\n",
    "\n",
    "```python\n",
    "def funcion(l):\n",
    "    i = 0\n",
    "    a = l[0]\n",
    "    for j in range(1, len(l)):\n",
    "        var = l[j]\n",
    "        if var > a:\n",
    "            j = i\n",
    "            a = var\n",
    "    return i\n",
    "```\n",
    "\n",
    "En cambio, al utilizar nombres más descriptivos, queda más claro lo que hace la función:\n",
    "\n",
    "```python\n",
    "def indice_de_maximo(lista):\n",
    "    indice_actual = 0\n",
    "    maximo_actual = lista[0]\n",
    "    for indice in range(1, len(lista)):\n",
    "        elemento = lista[indice]\n",
    "        if elemento > maximo_actual:\n",
    "            indice_actual = indice\n",
    "            maximo_actual = elemento\n",
    "    return indice_actual\n",
    "```"
   ]
  },
  {
   "cell_type": "markdown",
   "metadata": {},
   "source": [
    "### - _Imports_ al comienzo del archivo.\n",
    "\n",
    "Esta convención nos permite ordenar en secciones cada archivo y nos permite encontrar todas las dependencias externas a otras liberías o módulos en un solo lugar, en vez de múltiples secciones:\n",
    "\n",
    "```python\n",
    "import os\n",
    "import random \n",
    "\n",
    "# ...\n",
    "# El resto del código\n",
    "```\n",
    "\n",
    "Más detalles de las sentencias de importación se detallan en el apunte sobre **modularización**."
   ]
  },
  {
   "cell_type": "markdown",
   "metadata": {},
   "source": [
    "### - Un espacio después de “,”.\n",
    "\n",
    "Para mantener orden, formato y legibilidad, esta regla se aplica en todos los casos que se usan comas al enumerar elementos:\n",
    "\n",
    "```python\n",
    "from random import randint, choice  # Espacios al importar \n",
    "\n",
    "def operaciones_con_potencia(lista, potencia):  # Espacios en definición de funciones\n",
    "    suma = 0\n",
    "    multiplicacion = 1\n",
    "    for elemento in lista:\n",
    "        suma += elemento ** potencia\n",
    "        multiplicacion *= elemento ** potencia\n",
    "    return suma, multiplicacion  # Espacios en retornos\n",
    "\n",
    "numeros = [3, 6, 2, 4]  # Espacios en definición de listas\n",
    "operaciones_con_potencia(numeros, 2)  # Espacios en llamadas de funciones\n",
    "```"
   ]
  },
  {
   "cell_type": "markdown",
   "metadata": {},
   "source": [
    "### - Espacios a cada lado de operadores.\n",
    "\n",
    "Para mantener orden, formato y legibilidad, esta regla se aplica siempre que se haga uso de operadores matemáticos:\n",
    "\n",
    "```python\n",
    "valor_1 = ((6 ** 17) - 1) / 2\n",
    "resultado = (1 + valor_1) * 3\n",
    "resto_en_dos = resultado % 2\n",
    "```"
   ]
  },
  {
   "cell_type": "markdown",
   "metadata": {},
   "source": [
    "### - No usar _tabs_. Usar 4 espacios para indentar.\n",
    "\n",
    "Python 3 no permite mezclar ambos tipos en un archivo para indentar bloques de código. Se prefiere usar **cuatro espacios** para cada nivel de indentación, no _tabs_. Dependiendo del editor de texto, hay formas de configurar el uso de espacios y _tabs_ al escribir automáticamente. Las tres interfaces de desarrollo recomendadas para el curso permiten esta funcionalidad, puedes encontrar manuales de instalación [aquí](https://iic2233.github.io/wiki/interface)."
   ]
  },
  {
   "cell_type": "markdown",
   "metadata": {},
   "source": [
    "### - Líneas de largo máximo de 100 caracteres (incluyendo espacios).\n",
    "\n",
    "Es recurrente el problema de líneas muy largas, sobretodo en líneas ya indentadas. Generalmente, se establece el límite de 80 caracteres como máximo para seguir una convención de compatibilidad con herramientas de edición que establecen este límite y permiten ver el código solo de ese ancho de espacio. Pero, en el curso relajaremos esta regla y trabajaremos con líneas de **máximo 100 caracteres**. Hay varias formas de evitar este problema, pero depende del contexto de cada uno. A veces es conveniente aprovechar la creación de variables extras para expresiones largas y  acortar líneas, o en casos extremos, el uso de `\\` que permite separar una línea larga en la siguiente.\n",
    "\n",
    "Por ejemplo, el siguiente código tiene líneas que se pueden acortar:\n",
    "\n",
    "```python\n",
    "print(\"Debe ingresar dos números\")\n",
    "valor_1 = int(input(\"Ingrese primer número\"))\n",
    "valor_2 = int(input(\"Ingrese segundo número\"))\n",
    "# La siguiente línea es muy larga\n",
    "if valor_1 + valor_2 >= 1000 and (valor_1 - valor_2 >= 1000 or valor_2 - valor_1 >= 1000):\n",
    "    print(\"Los números suman mucho y están muy separados\")\n",
    "elif valor_1 + valor_2 >= 1000:\n",
    "    print(\"Los números suman mucho\")\n",
    "elif (valor_1 - valor_2 >= 1000 or valor_2 - valor_1 >= 1000):\n",
    "    print(\"Los números están muy separados\")\n",
    "else:\n",
    "    print(\"Los números son apropiados\")\n",
    "```\n",
    "\n",
    "Mediante el uso de `\\`:\n",
    "\n",
    "```python\n",
    "print(\"Debe ingresar dos números\")\n",
    "valor_1 = int(input(\"Ingrese primer número\"))\n",
    "valor_2 = int(input(\"Ingrese segundo número\"))\n",
    "# Se separó usando \\\n",
    "if valor_1 + valor_2 >= 1000 and \\\n",
    "            (valor_1 - valor_2 >= 1000 or valor_2 - valor_1 >= 1000):\n",
    "    print(\"Los números suman mucho y están muy separados\")\n",
    "elif valor_1 + valor_2 >= 1000:\n",
    "    print(\"Los números suman mucho\")\n",
    "elif (valor_1 - valor_2 >= 1000 or valor_2 - valor_1 >= 1000):\n",
    "    print(\"Los números están muy separados\")\n",
    "else:\n",
    "    print(\"Los números son apropiados\")\n",
    "```\n",
    "\n",
    "O el uso de variables auxiliares:\n",
    "\n",
    "```python\n",
    "print(\"Debe ingresar dos números\")\n",
    "valor_1 = int(input(\"Ingrese primer número\"))\n",
    "valor_2 = int(input(\"Ingrese segundo número\"))\n",
    "# Variables auxiliares para mejorar legibilidad\n",
    "suma = valor_1 + valor_2\n",
    "resta = abs(valor_1 - valor_2)\n",
    "if suma >= 1000 and resta >= 1000:\n",
    "    print(\"Los números suman mucho y están muy separados\")\n",
    "elif suma >= 1000:\n",
    "    print(\"Los números suman mucho\")\n",
    "elif resta >= 1000:\n",
    "    print(\"Los números están muy separados\")\n",
    "else:\n",
    "    print(\"Los números son apropiados\")\n",
    "```\n",
    "\n",
    "En general, se prefiere reescribir el código de tal forma de evitar usar `\\`, ya que no es tan legible. También, la intención de esta regla es no escribir líneas largas en general, no solo arreglar aquellas que superen el límite de 100 caracteres."
   ]
  }
 ],
 "metadata": {
  "kernelspec": {
   "display_name": "Python 3",
   "language": "python",
   "name": "python3"
  },
  "language_info": {
   "codemirror_mode": {
    "name": "ipython",
    "version": 3
   },
   "file_extension": ".py",
   "mimetype": "text/x-python",
   "name": "python",
   "nbconvert_exporter": "python",
   "pygments_lexer": "ipython3",
   "version": "3.8.2"
  },
  "varInspector": {
   "cols": {
    "lenName": 16,
    "lenType": 16,
    "lenVar": 40
   },
   "kernels_config": {
    "python": {
     "delete_cmd_postfix": "",
     "delete_cmd_prefix": "del ",
     "library": "var_list.py",
     "varRefreshCmd": "print(var_dic_list())"
    },
    "r": {
     "delete_cmd_postfix": ") ",
     "delete_cmd_prefix": "rm(",
     "library": "var_list.r",
     "varRefreshCmd": "cat(var_dic_list()) "
    }
   },
   "types_to_exclude": [
    "module",
    "function",
    "builtin_function_or_method",
    "instance",
    "_Feature"
   ],
   "window_display": false
  }
 },
 "nbformat": 4,
 "nbformat_minor": 2
}